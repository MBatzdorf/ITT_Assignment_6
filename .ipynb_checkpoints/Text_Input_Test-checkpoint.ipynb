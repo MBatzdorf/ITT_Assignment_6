{
 "cells": [
  {
   "cell_type": "code",
   "execution_count": 6,
   "metadata": {
    "collapsed": true
   },
   "outputs": [],
   "source": [
    "%matplotlib inline\n",
    "import pandas\n",
    "import pylab as pl\n",
    "from scipy.stats import ttest_ind\n",
    "\n",
    "try:\n",
    "    # import the data\n",
    "    data = pandas.read_csv('stats_data.csv', delimiter=';')\n",
    "    # select only the relevant columns\n",
    "    data = data[['user_id', 'presented_sentence', 'transcribed_sentence', 'text_input_technique', 'total_time (ms)',\n",
    "                 'wpm', 'timestamp (ISO)']]\n",
    "except Exception:\n",
    "    print(\"Error! Maybe you need to install pandas!\")"
   ]
  },
  {
   "cell_type": "code",
   "execution_count": 7,
   "metadata": {
    "collapsed": true
   },
   "outputs": [],
   "source": [
    "data_chord_input = data[data['text_input_technique'] == 'C']\n",
    "data_standard_input = data[data['text_input_technique'] == 'S']"
   ]
  },
  {
   "cell_type": "code",
   "execution_count": 8,
   "metadata": {},
   "outputs": [
    {
     "data": {
      "image/png": "[encoded data removed]",
      "text/plain": [
       "<matplotlib.figure.Figure at 0x7f7d28065080>"
      ]
     },
     "metadata": {},
     "output_type": "display_data"
    },
    {
     "name": "stdout",
     "output_type": "stream",
     "text": [
      "Median Chord Input: 29.8687175562\n",
      "Median Standard Input: 65.227819413\n"
     ]
    }
   ],
   "source": [
    "# constant strings\n",
    "MOVEMENT_TIME = 'movement_time (ms)'\n",
    "NUMBER_ERRORS = 'number_of_errors'\n",
    "TRIAL_ID = 'trial ID'\n",
    "STANDARD_POINTER = 'Standard Pointer'\n",
    "AREA_BUBBLE_POINTER = 'Area Bubble Pointer'\n",
    "CIRCLE_MARKER = 'o'\n",
    "RED = 'r'\n",
    "GREEN = 'g'\n",
    "YELLOW = 'y'\n",
    "BLUE = 'b'\n",
    "# size of the markers in the scatterplot\n",
    "MARKER_SIZE = 30\n",
    "\n",
    "# class that stores the data required for a scatterplot\n",
    "class ScatterPlotData():\n",
    "    def __init__(self, data, s, color, label):\n",
    "        self.data = data\n",
    "        self.s = s\n",
    "        self.color = color\n",
    "        self.label = label\n",
    "\n",
    "# class that stores data required for labeling the figure\n",
    "class LabelData():\n",
    "    def __init__(self, title, xlabel, ylabel):\n",
    "        self.title = title\n",
    "        self.xlabel = xlabel\n",
    "        self.ylabel = ylabel\n",
    "\n",
    "# creates a new figure in which mulitple scatterplots will be drawn\n",
    "def create_new_figure():\n",
    "    # init plot creation\n",
    "    current_figure = pl.figure(figsize=(10, 15));\n",
    "    scatter_plot = current_figure.add_subplot(311);\n",
    "    return current_figure, scatter_plot\n",
    "\n",
    "# plot all scatter plots in one figre\n",
    "def create_nested_scatter_plot(scatter_plot, data, s, marker, color, label):\n",
    "    scatter_plot.scatter(range(len(data)),\n",
    "                     list(data), s=s, marker=marker,\n",
    "                     c=color, label=label)    \n",
    "\n",
    "# label the figure with title, x-/y-axis description\n",
    "def lable_figure(current_figure, scatter_plot, labeldata):\n",
    "    # add title, name axes (with units)\n",
    "    current_figure.suptitle(labeldata.title, fontweight='bold')\n",
    "    scatter_plot.set_xlabel(labeldata.xlabel)\n",
    "    scatter_plot.set_ylabel(labeldata.ylabel);\n",
    "    pl.legend(bbox_to_anchor=(1.3, 1), borderaxespad=0.)\n",
    "    pl.show()\n",
    "\n",
    "# draws a new scatterplot figure containing multiple nested scatter plots\n",
    "def create_new_scatterplot_figure(scatterplots, labeldata):\n",
    "    current_figure, scatter_plot = create_new_figure()\n",
    "    for i in range(len(scatterplots)):   \n",
    "        create_nested_scatter_plot(scatter_plot, scatterplots[i].data, MARKER_SIZE, scatterplots[i].s, \n",
    "                                   scatterplots[i].color, scatterplots[i].label)        \n",
    "    lable_figure(current_figure, scatter_plot, labeldata)\n",
    "\n",
    "# this method creates a simple scatterplot\n",
    "def create_scatter_plot(data_x_axis, data_y_axis, title, x_label, y_label, color, marker):\n",
    "    pl.scatter(data_x_axis, data_y_axis, c=color, marker=marker)\n",
    "    pl.suptitle(title, fontweight='bold')\n",
    "    pl.xlabel(x_label)\n",
    "    pl.ylabel(y_label)\n",
    "\n",
    "# this method prints out the median of given data\n",
    "def print_median(data, label):\n",
    "    print(\"Median \" + str(label) + \": \" + str(pl.median(data)))\n",
    "\n",
    "# this method prints out the mean of given data\n",
    "def print_mean(data, label):\n",
    "    print(\"Mean \" + str(label) + \": \" + str(pl.mean(data)))\n",
    "    \n",
    "    \n",
    "# data for the scatterplots that will be nested in one figure\n",
    "scatterplots_data = [ScatterPlotData(data_chord_input['wpm'], CIRCLE_MARKER, RED, \"Chord Input\"),\n",
    "                     ScatterPlotData(data_standard_input['wpm'], CIRCLE_MARKER, BLUE, \"Standard Input\")]\n",
    "\n",
    "# create a scatterplot to show the error rates for both pointing techniques when using very small targets\n",
    "create_new_scatterplot_figure(scatterplots_data, \n",
    "                              LabelData('Text Input performance regarding words per minute (wpm)',\n",
    "                                        TRIAL_ID, 'wpm'))\n",
    "\n",
    "print_median(data_chord_input['wpm'], 'Chord Input')\n",
    "print_median(data_standard_input['wpm'], 'Standard Input')"
   ]
  },
  {
   "cell_type": "code",
   "execution_count": 13,
   "metadata": {},
   "outputs": [
    {
     "name": "stdout",
     "output_type": "stream",
     "text": [
      "Median Chord Input: 29.8687175562\n",
      "Median Standard Input: 65.227819413\n",
      "Mean Input: 31.1418464922\n",
      "Mean Standard: 64.729816656\n"
     ]
    },
    {
     "data": {
      "image/png": "[encoded data removed]",
      "text/plain": [
       "<matplotlib.figure.Figure at 0x7f7d23a3ffd0>"
      ]
     },
     "metadata": {},
     "output_type": "display_data"
    }
   ],
   "source": [
    "# this method creates a boxplot with its title and x-/y-labels\n",
    "def create_boxplot(label, data, title, xlabel, ylabel):\n",
    "    pl.boxplot(data, labels=label, showmeans=True);\n",
    "    pl.suptitle(title, fontweight='bold')\n",
    "    pl.xlabel(xlabel)\n",
    "    pl.ylabel(ylabel)\n",
    "    \n",
    "# label the boxplot elements, get data and create a boxplot with the given data\n",
    "label = ['Chord Input', 'Standard Input']\n",
    "boxplot_data = [data_chord_input['wpm'], data_standard_input['wpm']]\n",
    "create_boxplot(label, boxplot_data, 'Task performance', 'text input technique', 'wpm')\n",
    "\n",
    "# print out medians and means of absolute pointing performance\n",
    "print_median(data_chord_input['wpm'], \"Chord Input\")\n",
    "print_median(data_standard_input['wpm'], \"Standard Input\")\n",
    "print_mean(data_chord_input['wpm'], \"Input\")\n",
    "print_mean(data_standard_input['wpm'], \"Standard\")"
   ]
  },
  {
   "cell_type": "code",
   "execution_count": 14,
   "metadata": {},
   "outputs": [
    {
     "name": "stdout",
     "output_type": "stream",
     "text": [
      "p-value Text entry performance: 1.53297007767e-27\n"
     ]
    }
   ],
   "source": [
    "# calculates the p-value of a t-test given two samples\n",
    "def calculate_p_value(UV1, UV2):\n",
    "    _, p_value = ttest_ind(UV1, UV2)\n",
    "    return p_value\n",
    "\n",
    "# print out p-values of relative and absolute task performance\n",
    "print(\"p-value Text entry performance: \" + str(calculate_p_value(data_chord_input['wpm'],\n",
    "                                                                         data_standard_input['wpm'])))"
   ]
  },
  {
   "cell_type": "code",
   "execution_count": null,
   "metadata": {
    "collapsed": true
   },
   "outputs": [],
   "source": []
  }
 ],
 "metadata": {
  "kernelspec": {
   "display_name": "Python 3",
   "language": "python",
   "name": "python3"
  },
  "language_info": {
   "codemirror_mode": {
    "name": "ipython",
    "version": 3
   },
   "file_extension": ".py",
   "mimetype": "text/x-python",
   "name": "python",
   "nbconvert_exporter": "python",
   "pygments_lexer": "ipython3",
   "version": "3.5.2"
  }
 },
 "nbformat": 4,
 "nbformat_minor": 2
}
